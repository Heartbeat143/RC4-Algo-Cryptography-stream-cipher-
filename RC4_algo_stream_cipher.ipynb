{
  "nbformat": 4,
  "nbformat_minor": 0,
  "metadata": {
    "colab": {
      "name": "week3_72_CNS.ipynb",
      "provenance": [],
      "collapsed_sections": [],
      "authorship_tag": "ABX9TyP08G/PU0SNvOI5KHOBUlJb",
      "include_colab_link": true
    },
    "kernelspec": {
      "name": "python3",
      "display_name": "Python 3"
    }
  },
  "cells": [
    {
      "cell_type": "markdown",
      "metadata": {
        "id": "view-in-github",
        "colab_type": "text"
      },
      "source": [
        "<a href=\"https://colab.research.google.com/github/Heartbeat143/RC4-Algo-Cryptography-stream-cipher-/blob/main/RC4_algo_stream_cipher.ipynb\" target=\"_parent\"><img src=\"https://colab.research.google.com/assets/colab-badge.svg\" alt=\"Open In Colab\"/></a>"
      ]
    },
    {
      "cell_type": "markdown",
      "metadata": {
        "id": "YjOpcIlqRAVg"
      },
      "source": [
        "# Implement RC4 (Rivest Cipher 4)\n"
      ]
    },
    {
      "cell_type": "markdown",
      "metadata": {
        "id": "9EojtTgHpvg5"
      },
      "source": [
        "# RC4 (PRGA and KSA )\n",
        "PRGA :- Psudo Random Generation Algo\n",
        "\n",
        "KSA  :- Key Scheduling Algo"
      ]
    },
    {
      "cell_type": "code",
      "metadata": {
        "id": "h3r6bFh5a5Rs"
      },
      "source": [
        "mod = 256\n",
        "\n",
        "# Key Scheduling Algo\n",
        "def KSA(key):\n",
        "  key_length = len(key)\n",
        "  # create the array(list in python) \"S\"\n",
        "  S = list(range(mod))  # [0,1,2, ... , 255]\n",
        "  j = 0\n",
        "  for i in range(mod):\n",
        "    j = (j + S[i] + key[i % key_length]) % mod\n",
        "    S[i], S[j] = S[j], S[i]  # swap values\n",
        "  \n",
        "  return S\n",
        "\n",
        "\n",
        "# Psudo Random Generation Algo\n",
        "def PRGA(S):\n",
        "  i = j = 0\n",
        "  while True:\n",
        "    i = (i + 1) % mod\n",
        "    j = (j + S[i]) % mod\n",
        "    S[i], S[j] = S[j], S[i]  # swap values\n",
        "    K = S[(S[i] + S[j]) % mod]\n",
        "    yield K\n",
        "\n",
        "#Takes the encryption key to get the keystream using PRGA and return object is a generator\n",
        "def RC4(key):\n",
        "  S = KSA(key)\n",
        "  return PRGA(S)"
      ],
      "execution_count": null,
      "outputs": []
    },
    {
      "cell_type": "markdown",
      "metadata": {
        "id": "G8sdtmxtjIUH"
      },
      "source": [
        "# Encryption  and Decryption"
      ]
    },
    {
      "cell_type": "code",
      "metadata": {
        "id": "wChraHSJi7hV"
      },
      "source": [
        "def encrypt_logic(key, text):\n",
        "  key = [ord(c) for c in key]\n",
        "  keystream = RC4(key)\n",
        "\n",
        "  res = []\n",
        "  for c in text:\n",
        "    val = (\"%02X\" % (c ^ next(keystream)))  # XOR and taking hex\n",
        "    res.append(val)\n",
        "  return ''.join(res)\n",
        "\n",
        "\n",
        "def encrypt(key, plaintext):\n",
        "  plaintext = [ord(c) for c in plaintext]\n",
        "  return encrypt_logic(key, plaintext)\n",
        "\n",
        "\n",
        "def decrypt(key, ciphertext):\n",
        "  import codecs\n",
        "  ciphertext = codecs.decode(ciphertext, 'hex_codec')\n",
        "  res = encrypt_logic(key, ciphertext)\n",
        "  return codecs.decode(res, 'hex_codec').decode('utf-8')"
      ],
      "execution_count": null,
      "outputs": []
    },
    {
      "cell_type": "markdown",
      "metadata": {
        "id": "jdX2eu8Sl5I1"
      },
      "source": [
        "# Main Function\n"
      ]
    },
    {
      "cell_type": "code",
      "metadata": {
        "id": "WtK2dYuel7cn",
        "outputId": "4858aa41-31eb-4eff-8aeb-8881fa802089",
        "colab": {
          "base_uri": "https://localhost:8080/",
          "height": 173
        }
      },
      "source": [
        "if __name__==\"__main__\":\n",
        "  key = input('Enter key word:  ')\n",
        "  plain_text = input('Enter Plain text:  ')\n",
        "  # encrypt the plaintext, using key and RC4 algorithm\n",
        "  cipher_text = encrypt(key, plain_text)\n",
        "  print('Encryption')\n",
        "  print('plain text :', plain_text)\n",
        "  print('cipher text:', cipher_text)\n",
        "\n",
        "  decrypted = decrypt(key, cipher_text)\n",
        "  print(\"\\nDecryption\")\n",
        "  print('Cipher text:', cipher_text)\n",
        "  print('Plain text :', decrypted)"
      ],
      "execution_count": null,
      "outputs": [
        {
          "output_type": "stream",
          "text": [
            "Enter keyword:\tkeyword\n",
            "Enter Plain text:\thello sir\n",
            "Encryption\n",
            "plain text : hello sir\n",
            "cipher text: A53D6BC546C07B3B03\n",
            "\n",
            "Decryption\n",
            "Cipher text: A53D6BC546C07B3B03\n",
            "Plain text : hello sir\n"
          ],
          "name": "stdout"
        }
      ]
    }
  ]
}